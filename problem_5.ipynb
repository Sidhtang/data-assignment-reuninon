{
  "nbformat": 4,
  "nbformat_minor": 0,
  "metadata": {
    "colab": {
      "provenance": [],
      "authorship_tag": "ABX9TyPSendHEiFP3H5+6yRkmiSk",
      "include_colab_link": true
    },
    "kernelspec": {
      "name": "python3",
      "display_name": "Python 3"
    },
    "language_info": {
      "name": "python"
    }
  },
  "cells": [
    {
      "cell_type": "markdown",
      "metadata": {
        "id": "view-in-github",
        "colab_type": "text"
      },
      "source": [
        "<a href=\"https://colab.research.google.com/github/Sidhtang/data-assignment-reuninon/blob/main/problem_5.ipynb\" target=\"_parent\"><img src=\"https://colab.research.google.com/assets/colab-badge.svg\" alt=\"Open In Colab\"/></a>"
      ]
    },
    {
      "cell_type": "code",
      "source": [
        "import pandas as pd\n",
        "\n",
        "# Load the data from the Excel file\n",
        "df = pd.read_excel('Time Series.xlsx')\n",
        "\n",
        "# Convert the 'Start' and 'End' columns to datetime format\n",
        "df['Start'] = pd.to_datetime(df['Start'])\n",
        "df['End'] = pd.to_datetime(df['End'])\n",
        "\n",
        "# Sort the data by 'Name' and 'Start'\n",
        "df = df.sort_values(by=['Name', 'Start'])\n",
        "\n",
        "# Initialize an empty list to store the aggregated data\n",
        "aggregated_data = []\n",
        "\n",
        "# Iterate over each bot\n",
        "for name in df['Name'].unique():\n",
        "    bot_df = df[df['Name'] == name]\n",
        "\n",
        "    # Initialize the current period start and end times\n",
        "    period_start = bot_df['Start'].min()\n",
        "    period_end = period_start\n",
        "\n",
        "    # Initialize an empty list to store the activities for the current period\n",
        "    activities = []\n",
        "\n",
        "    # Iterate over each task\n",
        "    for index, row in bot_df.iterrows():\n",
        "        # If the task starts after the current period end, start a new period\n",
        "        if row['Start'] > period_end:\n",
        "            # Add the current period to the aggregated data\n",
        "            aggregated_data.append((name, period_start, period_end, activities))\n",
        "\n",
        "            # Reset the period start and end times\n",
        "            period_start = row['Start']\n",
        "            period_end = row['End']\n",
        "            activities = [row['Activity']]\n",
        "        else:\n",
        "            # Update the period end time if the task ends later\n",
        "            period_end = max(period_end, row['End'])\n",
        "            activities.append(row['Activity'])\n",
        "\n",
        "    # Add the last period to the aggregated data\n",
        "    aggregated_data.append((name, period_start, period_end, activities))\n",
        "\n",
        "# Create a new DataFrame with the aggregated data\n",
        "aggregated_df = pd.DataFrame(aggregated_data, columns=['Name', 'Start Time', 'End Time', 'Activities'])\n",
        "\n",
        "# Print the aggregated data\n",
        "print(aggregated_df)"
      ],
      "metadata": {
        "colab": {
          "base_uri": "https://localhost:8080/"
        },
        "id": "QgctCb4IYHZ8",
        "outputId": "3ac994a5-a703-4c54-c7cc-5bb96f6c2928"
      },
      "execution_count": 3,
      "outputs": [
        {
          "output_type": "stream",
          "name": "stdout",
          "text": [
            "        Name              Start Time                End Time  \\\n",
            "0     Deepti 2023-03-29 15:31:52.620 2023-10-15 15:31:52.620   \n",
            "1      Jyoti 2023-03-29 15:31:52.620 2023-10-15 13:07:52.620   \n",
            "2   Priyanka 2023-03-29 15:31:52.620 2023-10-15 15:31:52.620   \n",
            "3       Ravi 2023-03-29 15:31:52.620 2023-10-15 08:19:52.620   \n",
            "4       Ravi 2023-10-15 10:43:52.620 2023-06-10 17:55:52.620   \n",
            "5       Ravi 2023-10-15 10:43:52.620 2023-06-28 13:07:52.620   \n",
            "6       Ravi 2023-10-15 10:43:52.620 2023-07-26 01:07:52.620   \n",
            "7       Ravi 2023-10-15 10:43:52.620 2023-07-06 13:07:52.620   \n",
            "8       Ravi 2023-10-15 13:07:52.620 2023-04-18 10:43:52.620   \n",
            "9       Ravi 2023-10-15 13:07:52.620 2023-08-27 08:19:52.620   \n",
            "10    Sharan 2023-03-29 15:31:52.620 2023-10-15 05:55:52.620   \n",
            "11    Sharan 2023-10-15 08:19:52.620 2023-07-20 08:19:52.620   \n",
            "12    Sharan 2023-10-15 08:19:52.620 2023-08-14 17:55:52.620   \n",
            "13    Sharan 2023-10-15 08:19:52.620 2023-04-08 05:55:52.620   \n",
            "14    Sharan 2023-10-15 15:31:52.620 2023-07-23 17:55:52.620   \n",
            "\n",
            "                                           Activities  \n",
            "0   [Business Development, Reply to Customers, Sen...  \n",
            "1   [Business Development, Inspection, Fund raisin...  \n",
            "2   [Business Development, Remote Inspection, Podc...  \n",
            "3   [Call, Call, Fund raising, Call, Fund raising,...  \n",
            "4                                        [Send Email]  \n",
            "5                                         [Reporting]  \n",
            "6                                        [Inspection]  \n",
            "7                                        [Inspection]  \n",
            "8                                        [Send Email]  \n",
            "9                                           [Podcast]  \n",
            "10  [Inspection, Send Email, Fund raising, Updates...  \n",
            "11                                     [Fund raising]  \n",
            "12                                        [Reporting]  \n",
            "13                                          [Podcast]  \n",
            "14                                     [Fund raising]  \n"
          ]
        }
      ]
    },
    {
      "cell_type": "code",
      "source": [],
      "metadata": {
        "id": "3y1ZlV93YHcx"
      },
      "execution_count": null,
      "outputs": []
    },
    {
      "cell_type": "code",
      "source": [],
      "metadata": {
        "id": "rb98xmBKYHfy"
      },
      "execution_count": null,
      "outputs": []
    }
  ]
}